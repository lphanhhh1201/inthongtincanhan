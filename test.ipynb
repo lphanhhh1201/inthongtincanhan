{
 "cells": [
  {
   "cell_type": "code",
   "execution_count": 11,
   "id": "51606467-9896-4f7f-863b-9fdbbd8f86e1",
   "metadata": {},
   "outputs": [
    {
     "name": "stdout",
     "output_type": "stream",
     "text": [
      "*********************************\n",
      "*\t Name: La Phuong Anh \t*\n",
      "*\t Course: Python \t*\n",
      "*\t Organisor: CodeGym \t*\n",
      "*********************************\n"
     ]
    }
   ],
   "source": [
    "print(\"*********************************\"),\n",
    "print(\"*\\t Name: La Phuong Anh \\t*\"),\n",
    "print(\"*\\t Course: Python \\t*\"),\n",
    "print(\"*\\t Organisor: CodeGym \\t*\"),\n",
    "print(\"*********************************\")"
   ]
  },
  {
   "cell_type": "markdown",
   "id": "37c3a798-cd65-41e7-b129-b0e8d20df578",
   "metadata": {},
   "source": [
    "#Tự động căn chỉnh \"\\t\" - xem ví dụ trên"
   ]
  }
 ],
 "metadata": {
  "kernelspec": {
   "display_name": "Python 3 (ipykernel)",
   "language": "python",
   "name": "python3"
  },
  "language_info": {
   "codemirror_mode": {
    "name": "ipython",
    "version": 3
   },
   "file_extension": ".py",
   "mimetype": "text/x-python",
   "name": "python",
   "nbconvert_exporter": "python",
   "pygments_lexer": "ipython3",
   "version": "3.12.3"
  }
 },
 "nbformat": 4,
 "nbformat_minor": 5
}
